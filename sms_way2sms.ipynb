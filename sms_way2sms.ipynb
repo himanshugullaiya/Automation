{
 "cells": [
  {
   "cell_type": "code",
   "execution_count": 6,
   "metadata": {},
   "outputs": [],
   "source": [
    "from twilio.rest import Client\n",
    "\n",
    "\n",
    "# Your Account Sid and Auth Token from twilio.com/console\n",
    "# DANGER! This is insecure. See http://twil.io/secure\n",
    "account_sid = 'AC3feaf548538d7aa72a17c4088aaa121b'\n",
    "auth_token = '6272f03aeff222c51a2300e8bb0cfed6'\n",
    "client = Client(account_sid, auth_token)\n",
    "\n",
    "message = client.messages \\\n",
    "                .create(\n",
    "                     body=\"You have Entered the Library. Thank You\",\n",
    "                     from_='+17637106080',\n",
    "                     to='+919654116711'\n",
    "                 )\n",
    "\n",
    "# print(message.sid)\n",
    "# EXAMPLE JSON API RESPONSE\n",
    "# {\n",
    "#   \"account_sid\": \"ACXXXXXXXXXXXXXXXXXXXXXXXXXXXXXXXX\",\n",
    "#   \"api_version\": \"2010-04-01\",\n",
    "#   \"body\": \"Join Earth's mightiest heroes. Like Kevin Bacon.\",\n",
    "#   \"date_created\": \"Thu, 30 Jul 2015 20:12:31 +0000\",\n",
    "#   \"date_sent\": \"Thu, 30 Jul 2015 20:12:33 +0000\",\n",
    "#   \"date_updated\": \"Thu, 30 Jul 2015 20:12:33 +0000\",\n",
    "#   \"direction\": \"outbound-api\",\n",
    "#   \"from\": \"+17637106080\",\n",
    "#   \"messaging_service_sid\": \"MGXXXXXXXXXXXXXXXXXXXXXXXXXXXXXXXX\",\n",
    "#   \"num_media\": \"0\",\n",
    "#   \"num_segments\": \"1\",\n",
    "#   \"price\": \"-0.00750\",\n",
    "#   \"price_unit\": \"USD\",\n",
    "#   \"sid\": \"MMXXXXXXXXXXXXXXXXXXXXXXXXXXXXXXXX\",\n",
    "#   \"status\": \"sent\",\n",
    "#   \"subresource_uris\": {\n",
    "#     \"media\": \"/2010-04-01/Accounts/ACXXXXXXXXXXXXXXXXXXXXXXXXXXXXXXXX/Messages/SMXXXXXXXXXXXXXXXXXXXXXXXXXXXXXXXX/Media.json\"\n",
    "#   },\n",
    "#   \"to\": \"+919654116711\",\n",
    "#   \"uri\": \"/2010-04-01/Accounts/ACXXXXXXXXXXXXXXXXXXXXXXXXXXXXXXXX/Messages/SMXXXXXXXXXXXXXXXXXXXXXXXXXXXXXXXX.json\"\n",
    "# }"
   ]
  },
  {
   "cell_type": "code",
   "execution_count": 7,
   "metadata": {},
   "outputs": [
    {
     "name": "stdout",
     "output_type": "stream",
     "text": [
      "{'success': False, 'error': 'Test texts are temporarily disabled.', 'quotaRemaining': 0}\n"
     ]
    }
   ],
   "source": [
    "import requests\n",
    "resp = requests.post('https://textbelt.com/text', {\n",
    "  'phone': '5557727420',\n",
    "  'message': 'Hello world',\n",
    "  'key': 'textbelt',\n",
    "})\n",
    "print(resp.json())"
   ]
  },
  {
   "cell_type": "code",
   "execution_count": 39,
   "metadata": {},
   "outputs": [
    {
     "name": "stdout",
     "output_type": "stream",
     "text": [
      "{\"code\":\"200 OK\",\"total-messages-sent\":1,\"req-type\":\"post\",\"remaining-sms\":18,\"message\":\"Campaign sent successfully.\",\"usetype\":\"stage\",\"balacne\":\"0\",\"status\":\"success\"}\n"
     ]
    }
   ],
   "source": [
    "import requests\n",
    "import json\n",
    "from datetime import datetime\n",
    "import random as r\n",
    "\n",
    "def gettime():\n",
    "    time_with_ms = str(datetime.now().time())\n",
    "    time_s = time_with_ms.split('.')[0]\n",
    "    time_s_hour = int(time_s.split(':')[0])\n",
    "    if( time_s_hour > 12):\n",
    "        time_s_hour -= 12\n",
    "        time_s = str(time_s_hour) + ':'+ ':'.join(time_s.split(':')[1:3])\n",
    "        time_s += ' P.M.'\n",
    "    else:\n",
    "        time_s += ' A.M'\n",
    "    return time_s\n",
    "\n",
    "\n",
    "choice = r.choice(['Study','Issue/Return','Others'])\n",
    "\n",
    "URL = 'https://www.way2sms.com/api/v1/sendCampaign'\n",
    "apikey = 'BA17AT6H44LJLT12NWEJBVYRXNBTBILN'\n",
    "secretkey = 'ACDTRPV3AINHVGU3'\n",
    "usetype = 'stage'\n",
    "phone = 9654116711\n",
    "senderid = '9654116711'\n",
    "\n",
    "message = f'''\n",
    "Welcome to the Library!\n",
    "Login Time: {gettime()}\n",
    "Purpose: {choice}\n",
    "Webopac Link: http://180.151.225.4/alice/afwiinq.dll?\n",
    "Dev: himanshu'''\n",
    "\n",
    "# get request\n",
    "def sendPostRequest(reqUrl, apiKey, secretKey, useType, phoneNo, senderId, textMessage):\n",
    "  req_params = {\n",
    "  'apikey':apiKey,\n",
    "  'secret':secretKey,\n",
    "  'usetype':useType,\n",
    "  'phone': phoneNo,\n",
    "  'message':textMessage,\n",
    "  'senderid':senderId\n",
    "  }\n",
    "  return requests.post(reqUrl, req_params)\n",
    "\n",
    "# get response\n",
    "response = sendPostRequest(URL, apikey, secretkey, usetype, phone, senderid, message)\n",
    "\n",
    "\n",
    "print(response.text)"
   ]
  },
  {
   "cell_type": "code",
   "execution_count": null,
   "metadata": {},
   "outputs": [],
   "source": []
  }
 ],
 "metadata": {
  "kernelspec": {
   "display_name": "gpupower",
   "language": "python",
   "name": "gpupower"
  },
  "language_info": {
   "codemirror_mode": {
    "name": "ipython",
    "version": 3
   },
   "file_extension": ".py",
   "mimetype": "text/x-python",
   "name": "python",
   "nbconvert_exporter": "python",
   "pygments_lexer": "ipython3",
   "version": "3.6.9"
  }
 },
 "nbformat": 4,
 "nbformat_minor": 2
}
